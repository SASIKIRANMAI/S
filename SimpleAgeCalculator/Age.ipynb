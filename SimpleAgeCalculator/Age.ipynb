{
 "cells": [
  {
   "cell_type": "code",
   "execution_count": 1,
   "id": "00563ad4-9acd-4663-886b-bc38be7c7021",
   "metadata": {},
   "outputs": [
    {
     "name": "stdout",
     "output_type": "stream",
     "text": [
      "simple age calculator\n",
      "Age: 22 Years 5 months and 0 days\n"
     ]
    }
   ],
   "source": [
    "from datetime import date\n",
    "\n",
    "def calculator_age(birthday):\n",
    "    today = date.today()\n",
    "    day_check = ((today.month,today.day)<(birthday.month,birthday.day))\n",
    "    year_diff = today.year - birthday.year\n",
    "    age_in_years = year_diff - day_check\n",
    "    remaining_months = abs(today.month - birthday.month)\n",
    "    remaining_days = abs(today.day - birthday.day)\n",
    "    print(\"Age:\",age_in_years,\"Years\",remaining_months,\"months and\",remaining_days,\"days\")\n",
    "print(\"simple age calculator\")\n",
    "birthYear = int(input(\"Enter the birth year:\"))\n",
    "birthMonth = int(input(\"Enter the birth Month:\"))\n",
    "birthDay = int(input(\"Enter the birth Day:\"))\n",
    "dateOfBirth = date(birthYear,birthMonth,birthDay)\n",
    "calculator_age(dateOfBirth)\n",
    "    "
   ]
  },
  {
   "cell_type": "code",
   "execution_count": null,
   "id": "880129a1-1ab8-46ef-90ee-d07eedcb3d19",
   "metadata": {},
   "outputs": [],
   "source": []
  }
 ],
 "metadata": {
  "kernelspec": {
   "display_name": "Python 3 (ipykernel)",
   "language": "python",
   "name": "python3"
  },
  "language_info": {
   "codemirror_mode": {
    "name": "ipython",
    "version": 3
   },
   "file_extension": ".py",
   "mimetype": "text/x-python",
   "name": "python",
   "nbconvert_exporter": "python",
   "pygments_lexer": "ipython3",
   "version": "3.12.2"
  }
 },
 "nbformat": 4,
 "nbformat_minor": 5
}
